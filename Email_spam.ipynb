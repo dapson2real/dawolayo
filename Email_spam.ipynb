{
 "cells": [
  {
   "cell_type": "markdown",
   "metadata": {},
   "source": [
    "Text classification with Naive Bayes"
   ]
  },
  {
   "cell_type": "code",
   "execution_count": 135,
   "metadata": {},
   "outputs": [
    {
     "name": "stdout",
     "output_type": "stream",
     "text": [
      "        v1                                                 v2 Unnamed: 2  \\\n",
      "0      ham  Go until jurong point, crazy.. Available only ...        NaN   \n",
      "1      ham                      Ok lar... Joking wif u oni...        NaN   \n",
      "2     spam  Free entry in 2 a wkly comp to win FA Cup fina...        NaN   \n",
      "3      ham  U dun say so early hor... U c already then say...        NaN   \n",
      "4      ham  Nah I don't think he goes to usf, he lives aro...        NaN   \n",
      "...    ...                                                ...        ...   \n",
      "5567  spam  This is the 2nd time we have tried 2 contact u...        NaN   \n",
      "5568   ham              Will �_ b going to esplanade fr home?        NaN   \n",
      "5569   ham  Pity, * was in mood for that. So...any other s...        NaN   \n",
      "5570   ham  The guy did some bitching but I acted like i'd...        NaN   \n",
      "5571   ham                         Rofl. Its true to its name        NaN   \n",
      "\n",
      "     Unnamed: 3 Unnamed: 4  \n",
      "0           NaN        NaN  \n",
      "1           NaN        NaN  \n",
      "2           NaN        NaN  \n",
      "3           NaN        NaN  \n",
      "4           NaN        NaN  \n",
      "...         ...        ...  \n",
      "5567        NaN        NaN  \n",
      "5568        NaN        NaN  \n",
      "5569        NaN        NaN  \n",
      "5570        NaN        NaN  \n",
      "5571        NaN        NaN  \n",
      "\n",
      "[5572 rows x 5 columns]\n"
     ]
    }
   ],
   "source": [
    "import numpy as np\n",
    "import matplotlib.pyplot as plt\n",
    "import pandas as pd\n",
    "from pandas import DataFrame\n",
    "import seaborn as sns\n",
    "\n",
    "#load dataset\n",
    "mail = pd.read_csv('https://raw.githubusercontent.com/dapson2real/dawolayo/master/spam_filter.csv')\n",
    "print(mail)"
   ]
  },
  {
   "cell_type": "code",
   "execution_count": 136,
   "metadata": {},
   "outputs": [],
   "source": [
    "#remove unnamed columns and rename selected columns\n",
    "mail.drop(['Unnamed: 2', 'Unnamed: 3', 'Unnamed: 4'], axis = 1,inplace=True)\n",
    "mail.rename(columns = {'v1':'target','v2':'data'},inplace=True)"
   ]
  },
  {
   "cell_type": "code",
   "execution_count": 137,
   "metadata": {},
   "outputs": [],
   "source": [
    "import string\n",
    "from nltk.corpus import stopwords\n",
    "from nltk.tokenize import word_tokenize\n",
    "from nltk.stem import SnowballStemmer\n",
    "from nltk.stem import WordNetLemmatizer\n",
    "stop_words=set(stopwords.words('english'))\n",
    "# Apply Stemming\n",
    "stemmer = SnowballStemmer('english')\n",
    "# Apply Lemmatization\n",
    "wnl = WordNetLemmatizer()\n",
    "\n",
    "def preprocessing(sentence):\n",
    "    sentence = [wnl.lemmatize(w) for w in word_tokenize(sentence) if not w in string.punctuation]#Take out punctuations\n",
    "    sentence = [stemmer.stem(w) for w in sentence if not w in stop_words] #Removing stop words and apply stemmer with NLTK\n",
    "    #sentence = [wnl.lemmatize(w) for w in sentence if not w in stop_words] #Removing stop words and apply stemmer with NLTK\n",
    "    sentence = filter(str.isalnum, sentence) #remove all non-alphanumeric characters\n",
    "    return \" \".join(sentence)"
   ]
  },
  {
   "cell_type": "code",
   "execution_count": 138,
   "metadata": {},
   "outputs": [
    {
     "data": {
      "text/plain": [
       "0       go jurong point avail bugi n great world la e ...\n",
       "1                                   ok lar joke wif u oni\n",
       "2       free entri 2 wkli comp win fa cup final tkts 2...\n",
       "3                     u dun say earli hor u c alreadi say\n",
       "4                   nah i think go usf life around though\n",
       "                              ...                        \n",
       "5567    this 2nd time tri 2 contact u pound prize 2 cl...\n",
       "5568                           will b go esplanad fr home\n",
       "5569                              piti wa mood so suggest\n",
       "5570    the guy bitch i act like interest buy someth e...\n",
       "5571                                    rofl it true name\n",
       "Name: data, Length: 5572, dtype: object"
      ]
     },
     "execution_count": 138,
     "metadata": {},
     "output_type": "execute_result"
    }
   ],
   "source": [
    "mail.data=mail.data.apply(preprocessing)\n",
    "mail.data"
   ]
  },
  {
   "cell_type": "code",
   "execution_count": 139,
   "metadata": {},
   "outputs": [
    {
     "name": "stdout",
     "output_type": "stream",
     "text": [
      "Total observations: 5572\n",
      "\n",
      "Training observations: 4179\n",
      "\n",
      "Testing observations: 1393\n",
      "\n",
      "4732    good morn dear shijutta have great amp success...\n",
      "4952    i lost 4 pound sinc doc visit last week woot w...\n",
      "3724                                    noth abt u whr ru\n",
      "5261    i absolut love south park i recent start watch...\n",
      "1274         let know contact i ve settl room let know ok\n",
      "                              ...                        \n",
      "4509                   this weekend fine excus much decor\n",
      "3337                                        k u bore come\n",
      "2912                 kind send one flat lt decim gt today\n",
      "3071                                   ok lor but buy wat\n",
      "3016    one joy lifei wake daywith thought somewhereso...\n",
      "Name: data, Length: 1393, dtype: object\n"
     ]
    }
   ],
   "source": [
    "# Split dataset into train and test set\n",
    "from sklearn.model_selection import train_test_split\n",
    "data_train, data_test, target_train, target_test = train_test_split(mail.data,mail.target,test_size=0.25,\n",
    "                                                                    random_state=20, shuffle=True)\n",
    "print('Total observations: %s\\n' % len(mail.data))\n",
    "print('Training observations: %s\\n' % len(data_train))\n",
    "print('Testing observations: %s\\n' % len(data_test))\n",
    "print(data_test)"
   ]
  },
  {
   "cell_type": "code",
   "execution_count": 140,
   "metadata": {},
   "outputs": [
    {
     "name": "stdout",
     "output_type": "stream",
     "text": [
      "Pipeline(memory=None,\n",
      "         steps=[('TfidfVectorizer',\n",
      "                 TfidfVectorizer(analyzer='word', binary=False,\n",
      "                                 decode_error='strict',\n",
      "                                 dtype=<class 'numpy.float64'>,\n",
      "                                 encoding='utf-8', input='english',\n",
      "                                 lowercase=True, max_df=1.0, max_features=None,\n",
      "                                 min_df=1, ngram_range=(1, 1), norm='l2',\n",
      "                                 preprocessor=None, smooth_idf=True,\n",
      "                                 stop_words=None, strip_accents=None,\n",
      "                                 sublinear_tf=False,\n",
      "                                 token_pattern='(?u)\\\\b\\\\w\\\\w+\\\\b',\n",
      "                                 tokenizer=None, use_idf=True,\n",
      "                                 vocabulary=None)),\n",
      "                ('regressor',\n",
      "                 MultinomialNB(alpha=0.1, class_prior=[0.4, 0.6],\n",
      "                               fit_prior=True))],\n",
      "         verbose=False)\n"
     ]
    }
   ],
   "source": [
    "#%% Fitting Naive Bayes Classification to dataset\n",
    "\n",
    "from sklearn.feature_extraction.text import TfidfVectorizer\n",
    "from sklearn.naive_bayes import GaussianNB, MultinomialNB\n",
    "from sklearn.pipeline import Pipeline\n",
    "\n",
    "vectorizer = TfidfVectorizer(\"english\")\n",
    "#nbreg = GaussianNB()\n",
    "nbreg = MultinomialNB(alpha=0.1, class_prior=[0.4, 0.6], fit_prior=True)\n",
    "\n",
    "model = Pipeline(steps=[('TfidfVectorizer',vectorizer),('regressor', nbreg)])\n",
    "model.fit(data_train,target_train)\n",
    "print(model)"
   ]
  },
  {
   "cell_type": "code",
   "execution_count": 141,
   "metadata": {},
   "outputs": [
    {
     "data": {
      "text/html": [
       "<div>\n",
       "<style scoped>\n",
       "    .dataframe tbody tr th:only-of-type {\n",
       "        vertical-align: middle;\n",
       "    }\n",
       "\n",
       "    .dataframe tbody tr th {\n",
       "        vertical-align: top;\n",
       "    }\n",
       "\n",
       "    .dataframe thead th {\n",
       "        text-align: right;\n",
       "    }\n",
       "</style>\n",
       "<table border=\"1\" class=\"dataframe\">\n",
       "  <thead>\n",
       "    <tr style=\"text-align: right;\">\n",
       "      <th></th>\n",
       "      <th>ham</th>\n",
       "      <th>spam</th>\n",
       "    </tr>\n",
       "  </thead>\n",
       "  <tbody>\n",
       "    <tr>\n",
       "      <th>ham</th>\n",
       "      <td>1149</td>\n",
       "      <td>55</td>\n",
       "    </tr>\n",
       "    <tr>\n",
       "      <th>spam</th>\n",
       "      <td>9</td>\n",
       "      <td>180</td>\n",
       "    </tr>\n",
       "  </tbody>\n",
       "</table>\n",
       "</div>"
      ],
      "text/plain": [
       "       ham  spam\n",
       "ham   1149    55\n",
       "spam     9   180"
      ]
     },
     "execution_count": 141,
     "metadata": {},
     "output_type": "execute_result"
    },
    {
     "data": {
      "image/png": "[encoded data removed]",
      "text/plain": [
       "<Figure size 1440x720 with 1 Axes>"
      ]
     },
     "metadata": {
      "needs_background": "light"
     },
     "output_type": "display_data"
    }
   ],
   "source": [
    "#test prediction\n",
    "target_pred=model.predict(data_test)\n",
    "\n",
    "from sklearn.preprocessing import LabelEncoder\n",
    "from sklearn.metrics import accuracy_score, confusion_matrix, f1_score\n",
    "model_acurracy=accuracy_score(target_test, target_pred)\n",
    "labeler = LabelEncoder()\n",
    "model_precision=f1_score(labeler.fit_transform(target_test), labeler.fit_transform(target_pred))\n",
    "labels = list(mail.target.unique())\n",
    "cm = confusion_matrix(target_test, target_pred)\n",
    "cm = DataFrame(cm,index=labels,columns=labels)\n",
    "plt.figure(figsize= (20,10))\n",
    "sns.heatmap(cm, annot=True, fmt ='d', square=True, cbar=False, xticklabels=labels,yticklabels=labels)\n",
    "plt.title('Confusion matrix with Accuracy of %.1f%% and Precision of %0.2f' % (model_acurracy * 100.0,model_acurracy))\n",
    "plt.xlabel('Predicted Label')\n",
    "plt.ylabel('Actual Label')\n",
    "\n",
    "cm"
   ]
  },
  {
   "cell_type": "code",
   "execution_count": 142,
   "metadata": {},
   "outputs": [
    {
     "name": "stdout",
     "output_type": "stream",
     "text": [
      "spam\n"
     ]
    }
   ],
   "source": [
    "#forward prediction\n",
    "\n",
    "labels_pred=model.predict([preprocessing('Manchester City game with Arsenal will be replayed at the restart of the Permier league after Covid-19')])\n",
    "print(labels_pred[0])"
   ]
  },
  {
   "cell_type": "code",
   "execution_count": 143,
   "metadata": {},
   "outputs": [
    {
     "data": {
      "text/plain": [
       "'manchest citi game arsenal replay restart permier leagu'"
      ]
     },
     "execution_count": 143,
     "metadata": {},
     "output_type": "execute_result"
    }
   ],
   "source": [
    "#forward prediction\n",
    "preprocessing('Manchester City game with Arsenal will be replayed at the restart of the Permier league after Covid-19')"
   ]
  },
  {
   "cell_type": "code",
   "execution_count": null,
   "metadata": {},
   "outputs": [],
   "source": []
  }
 ],
 "metadata": {
  "kernelspec": {
   "display_name": "Python 3",
   "language": "python",
   "name": "python3"
  },
  "language_info": {
   "codemirror_mode": {
    "name": "ipython",
    "version": 3
   },
   "file_extension": ".py",
   "mimetype": "text/x-python",
   "name": "python",
   "nbconvert_exporter": "python",
   "pygments_lexer": "ipython3",
   "version": "3.7.4"
  }
 },
 "nbformat": 4,
 "nbformat_minor": 4
}
